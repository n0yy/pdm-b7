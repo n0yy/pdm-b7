{
 "cells": [
  {
   "cell_type": "code",
   "execution_count": null,
   "id": "999a35d6",
   "metadata": {},
   "outputs": [],
   "source": [
    "import pandas as pd\n",
    "import matplotlib.pyplot as plt\n",
    "import seaborn as sns\n",
    "import numpy as np\n",
    "\n",
    "from sklearn.model_selection import TimeSeriesSplit\n",
    "from sklearn.preprocessing import StandardScaler\n",
    "from sklearn.metrics import classification_report, confusion_matrix\n",
    "\n",
    "import tensorflow as tf\n",
    "from tensorflow.keras import backend as K\n",
    "from tensorflow.keras.models import Sequential\n",
    "from tensorflow.keras.layers import LSTM, Dense, Dropout, Bidirectional\n",
    "from tensorflow.keras.optimizers import AdamW\n",
    "from tensorflow.keras.regularizers import l2\n",
    "from tensorflow.keras.utils import to_categorical\n",
    "from tensorflow.keras.callbacks import EarlyStopping"
   ]
  },
  {
   "cell_type": "markdown",
   "id": "b955cf94",
   "metadata": {},
   "source": [
    "# 1. Preprocessing Data"
   ]
  },
  {
   "cell_type": "code",
   "execution_count": null,
   "id": "94c04be4",
   "metadata": {},
   "outputs": [],
   "source": [
    "# Load data\n",
    "df = pd.read_csv(\"data/ilapak3/train.csv\")\n",
    "df['times'] = pd.to_datetime(df['times'])\n",
    "df = df.sort_values(by='times').reset_index(drop=True)\n",
    "\n",
    "# Pick just data 2025\n",
    "# df = df[df[\"times\"].dt.year == 2025]\n",
    "df.info()"
   ]
  },
  {
   "cell_type": "code",
   "execution_count": null,
   "id": "886bb4ea",
   "metadata": {},
   "outputs": [],
   "source": [
    "df[\"Condition\"].value_counts()"
   ]
  },
  {
   "cell_type": "markdown",
   "id": "7e2d0ce6",
   "metadata": {},
   "source": [
    "# Features Engineering"
   ]
  },
  {
   "cell_type": "markdown",
   "id": "c06e540f",
   "metadata": {},
   "source": [
    "### Times Columns"
   ]
  },
  {
   "cell_type": "code",
   "execution_count": null,
   "id": "b51449ef",
   "metadata": {},
   "outputs": [],
   "source": [
    "df[\"month\"] = df[\"times\"].dt.month\n",
    "df[\"week\"] = df[\"times\"].dt.isocalendar().week\n",
    "df[\"day\"] = df[\"times\"].dt.day\n",
    "df[\"hour\"] = df[\"times\"].dt.hour\n",
    "df[\"minute\"] = df[\"times\"].dt.minute\n",
    "df.drop(columns=[\"times\"], inplace=True)\n",
    "df.head(2)"
   ]
  },
  {
   "cell_type": "markdown",
   "id": "1465b98b",
   "metadata": {},
   "source": [
    "### Diff in Sealing Vertical & Horizontal"
   ]
  },
  {
   "cell_type": "code",
   "execution_count": 5,
   "id": "91806e11",
   "metadata": {},
   "outputs": [],
   "source": [
    "df[\"diff_sealing_vertical\"] = df[\"Suhu Sealing Vertical Atas (oC)\"] - df[\"Suhu Sealing Vertikal Bawah (oC)\"]\n",
    "df[\"diff_sealing_horizontal\"] = df[\"Suhu Sealing Horizontal Depan/Kanan (oC)\"] - df[\"Suhu Sealing Horizontal Belakang/Kiri (oC )\"]\n",
    "\n",
    "df[\"diff_sealing_top_vertical\"] = df[\"Suhu Sealing Vertical Atas (oC)\"].diff().fillna(0)\n",
    "df[\"diff_sealing_bottom_vertical\"] = df[\"Suhu Sealing Vertikal Bawah (oC)\"].diff().fillna(0)\n",
    "df[\"diff_sealing_top_horizontal\"] = df[\"Suhu Sealing Horizontal Depan/Kanan (oC)\"].diff().fillna(0)\n",
    "df[\"diff_sealing_bottom_horizontal\"] = df[\"Suhu Sealing Horizontal Belakang/Kiri (oC )\"].diff().fillna(0)"
   ]
  },
  {
   "cell_type": "markdown",
   "id": "632b1f06",
   "metadata": {},
   "source": [
    "### Diff in Output & Reject"
   ]
  },
  {
   "cell_type": "code",
   "execution_count": 6,
   "id": "7ae23759",
   "metadata": {},
   "outputs": [],
   "source": [
    "df[\"diff_output\"] = df[\"Counter Output (pack)\"] - df[\"Counter Reject (pack)\"]\n",
    "df['diff_counter_output'] = df['Counter Output (pack)'].diff().fillna(0)\n",
    "df['diff_counter_reject'] = df['Counter Reject (pack)'].diff().fillna(0)"
   ]
  },
  {
   "cell_type": "markdown",
   "id": "1aa88d24",
   "metadata": {},
   "source": [
    "### Diff in Counter Time "
   ]
  },
  {
   "cell_type": "code",
   "execution_count": 7,
   "id": "00ec16b9",
   "metadata": {},
   "outputs": [],
   "source": [
    "df[\"diff_output_time\"] = df[\"Output Time_sec\"].diff().fillna(0)"
   ]
  },
  {
   "cell_type": "markdown",
   "id": "bf02828c",
   "metadata": {},
   "source": [
    "### Statistical Features"
   ]
  },
  {
   "cell_type": "code",
   "execution_count": null,
   "id": "7833b71a",
   "metadata": {},
   "outputs": [],
   "source": [
    "# Mean\n",
    "df[\"rolling_mean_sealing_vertical\"] = df[\"Suhu Sealing Vertical Atas (oC)\"].rolling(window=10).mean().fillna(method=\"bfill\")\n",
    "df[\"rolling_mean_sealing_horizontal\"] = df[\"Suhu Sealing Horizontal Depan/Kanan (oC)\"].rolling(window=10).mean().fillna(method=\"bfill\")\n",
    "df[\"rolling_mean_sealing_top_vertical\"] = df[\"Suhu Sealing Vertical Atas (oC)\"].rolling(window=10).mean().fillna(method=\"bfill\")\n",
    "df[\"rolling_mean_sealing_bottom_vertical\"] = df[\"Suhu Sealing Vertikal Bawah (oC)\"].rolling(window=10).mean().fillna(method=\"bfill\")\n",
    "df[\"rolling_mean_sealing_top_horizontal\"] = df[\"Suhu Sealing Horizontal Depan/Kanan (oC)\"].rolling(window=10).mean().fillna(method=\"bfill\")\n",
    "df[\"rolling_mean_sealing_bottom_horizontal\"] = df[\"Suhu Sealing Horizontal Belakang/Kiri (oC )\"].rolling(window=10).mean().fillna(method=\"bfill\")\n",
    "df[\"rolling_mean_output\"] = df[\"Counter Output (pack)\"].rolling(window=10).mean().fillna(method=\"bfill\")\n",
    "df[\"rolling_mean_reject\"] = df[\"Counter Reject (pack)\"].rolling(window=10).mean().fillna(method=\"bfill\")\n",
    "\n",
    "# STD\n",
    "df[\"rolling_std_sealing_vertical\"] = df[\"Suhu Sealing Vertical Atas (oC)\"].rolling(window=10).std().fillna(method=\"bfill\")\n",
    "df[\"rolling_std_sealing_horizontal\"] = df[\"Suhu Sealing Horizontal Depan/Kanan (oC)\"].rolling(window=10).std().fillna(method=\"bfill\")\n",
    "df[\"rolling_std_sealing_top_vertical\"] = df[\"Suhu Sealing Vertical Atas (oC)\"].rolling(window=10).std().fillna(method=\"bfill\")\n",
    "df[\"rolling_std_sealing_bottom_vertical\"] = df[\"Suhu Sealing Vertikal Bawah (oC)\"].rolling(window=10).std().fillna(method=\"bfill\")\n",
    "df[\"rolling_std_sealing_top_horizontal\"] = df[\"Suhu Sealing Horizontal Depan/Kanan (oC)\"].rolling(window=10).std().fillna(method=\"bfill\")\n",
    "df[\"rolling_std_sealing_bottom_horizontal\"] = df[\"Suhu Sealing Horizontal Belakang/Kiri (oC )\"].rolling(window=10).std().fillna(method=\"bfill\")\n",
    "df[\"rolling_std_output\"] = df[\"Counter Output (pack)\"].rolling(window=10).std().fillna(method=\"bfill\")\n",
    "df[\"rolling_std_reject\"] = df[\"Counter Reject (pack)\"].rolling(window=10).std().fillna(method=\"bfill\")"
   ]
  },
  {
   "cell_type": "markdown",
   "id": "fb88fb59",
   "metadata": {},
   "source": [
    "### Interaction Features"
   ]
  },
  {
   "cell_type": "code",
   "execution_count": 10,
   "id": "26f3cdab",
   "metadata": {},
   "outputs": [],
   "source": [
    "df['reject_ratio'] = df['Counter Reject (pack)'] / (df['Counter Output (pack)'] + 1)\n",
    "df['efficiency'] = df['Output Time_sec'] / df['Total Time_sec']\n",
    "\n",
    "# Lag Features\n",
    "df['lag_1_reject_ratio'] = df['reject_ratio'].shift(1).fillna(0)\n",
    "df['lag_1_efficiency'] = df['efficiency'].shift(1).fillna(0)\n",
    "\n",
    "# Rate of Change (ROC)\n",
    "df['roc_quality'] = df['Quality(%)'].pct_change().fillna(0)\n",
    "df['roc_reject_ratio'] = df['reject_ratio'].pct_change().fillna(0)\n",
    "df['roc_efficiency'] = df['efficiency'].pct_change().fillna(0)\n",
    "\n",
    "# Drop original columns\n",
    "df.drop(columns=[\n",
    "    \"Suhu Sealing Vertical Atas (oC)\", \"Suhu Sealing Vertikal Bawah (oC)\",\n",
    "    \"Suhu Sealing Horizontal Depan/Kanan (oC)\", \"Suhu Sealing Horizontal Belakang/Kiri (oC )\",\n",
    "    \"Counter Output (pack)\", \"Counter Reject (pack)\", \"Output Time_sec\"\n",
    "], inplace=True)"
   ]
  },
  {
   "cell_type": "code",
   "execution_count": null,
   "id": "0e3f1372",
   "metadata": {},
   "outputs": [],
   "source": [
    "plt.figure(figsize=(20, 12))\n",
    "sns.heatmap(df.corr(), annot=True, cbar=False, cmap='coolwarm', linewidths=0.5, fmt='.2f')"
   ]
  },
  {
   "cell_type": "markdown",
   "id": "4bbfeffb",
   "metadata": {},
   "source": [
    "### Select Feature with correlation value >= 0.1"
   ]
  },
  {
   "cell_type": "code",
   "execution_count": null,
   "id": "a4db2a3f",
   "metadata": {},
   "outputs": [],
   "source": [
    "# Select features with correlation >= 0.1 with 'Condition'\n",
    "features = df.corr()['Condition'].abs().sort_values(ascending=False)\n",
    "selected_features = features[features >= 0.1].index.tolist()\n",
    "\n",
    "df_selected = df[selected_features].copy()\n",
    "df_selected"
   ]
  },
  {
   "cell_type": "code",
   "execution_count": null,
   "id": "84d4525c",
   "metadata": {},
   "outputs": [],
   "source": [
    "sns.heatmap(df_selected.corr(), annot=True, cbar=False, cmap='coolwarm', linewidths=0.5, fmt='.2f')"
   ]
  },
  {
   "cell_type": "code",
   "execution_count": null,
   "id": "d0eed082",
   "metadata": {},
   "outputs": [],
   "source": [
    "# Drop features that is redundant or not useful\n",
    "df_selected.drop(columns=[\n",
    "    \"diff_sealing_vertical\", \"rolling_mean_sealing_horizontal\", \"diff_output\"\n",
    "], inplace=True)\n",
    "\n",
    "sns.heatmap(df_selected.corr(), annot=True, cbar=False, cmap='coolwarm', linewidths=0.5, fmt='.2f')"
   ]
  },
  {
   "cell_type": "markdown",
   "id": "1440d649",
   "metadata": {},
   "source": [
    "# LSTM Pipeline"
   ]
  },
  {
   "cell_type": "code",
   "execution_count": 15,
   "id": "53558b9d",
   "metadata": {},
   "outputs": [],
   "source": [
    "categorical_cols = ['Status']\n",
    "\n",
    "continuous_cols = ['rolling_mean_sealing_bottom_vertical',\n",
    "                   'diff_sealing_horizontal', 'rolling_mean_sealing_top_horizontal',\n",
    "                   'Quality(%)', 'rolling_std_sealing_bottom_vertical',\n",
    "                   'rolling_std_sealing_bottom_horizontal', 'rolling_mean_output']\n",
    "\n",
    "target_col = \"Condition\"\n",
    "\n",
    "timesteps = 10\n",
    "n_splits = 5\n",
    "n_classes = 3"
   ]
  },
  {
   "cell_type": "code",
   "execution_count": null,
   "id": "f7e1e093",
   "metadata": {},
   "outputs": [],
   "source": [
    "X = df[categorical_cols + continuous_cols]\n",
    "y = df[target_col]\n",
    "\n",
    "scaler = StandardScaler()\n",
    "X = pd.DataFrame(scaler.fit_transform(X), columns=X.columns)\n",
    "\n",
    "def create_sequences(X: pd.DataFrame, y: pd.Series, timesteps: int = 10):\n",
    "    Xs, ys = [], []\n",
    "    for i in range(timesteps, len(X)):\n",
    "        Xs.append(X.iloc[i-timesteps:i].values)\n",
    "        ys.append(y.iloc[i])\n",
    "    return np.array(Xs), np.array(ys)\n",
    "\n",
    "# Time Series Split\n",
    "def time_series_split(X, y, train_ratio=0.8):\n",
    "    \"\"\"Proper time series split\"\"\"\n",
    "    n = len(X)\n",
    "    train_end = int(n * train_ratio)\n",
    "    \n",
    "    X_train = X.iloc[:train_end]\n",
    "    X_test = X.iloc[train_end:]\n",
    "    \n",
    "    y_train = y.iloc[:train_end]\n",
    "    y_test = y.iloc[train_end:]\n",
    "    \n",
    "    return X_train, X_test, y_train, y_test\n",
    "\n",
    "# Split\n",
    "X_train, X_test, y_train, y_test = time_series_split(X, y)\n",
    "\n",
    "# Sequence\n",
    "X_train_seq, y_train_seq = create_sequences(X_train, y_train, timesteps)\n",
    "X_test_seq, y_test_seq = create_sequences(X_test, y_test, timesteps)\n",
    "\n",
    "# Print shape\n",
    "print(f\"X train seq: {X_train_seq.shape}, y train seq: {y_train_seq.shape}\")\n",
    "print(f\"X test seq: {X_test_seq.shape}, y test seq: {y_test_seq.shape}\")"
   ]
  },
  {
   "cell_type": "code",
   "execution_count": null,
   "id": "eaf8d7fa",
   "metadata": {},
   "outputs": [],
   "source": [
    "n_features = X_train_seq.shape[2]\n",
    "y_train_cat = to_categorical(y_train_seq, n_classes)\n",
    "y_test_cat = to_categorical(y_test_seq, n_classes)\n",
    "\n",
    "model = Sequential([\n",
    "        Bidirectional(LSTM(16, return_sequences=True), \n",
    "                     input_shape=(timesteps, n_features)),\n",
    "        Dropout(0.3),\n",
    "        \n",
    "        Bidirectional(LSTM(32, return_sequences=False)),\n",
    "        Dropout(0.3),\n",
    "        \n",
    "        Dense(16, activation='relu'),\n",
    "        Dropout(0.3),\n",
    "        \n",
    "        Dense(n_classes, activation='softmax')\n",
    "])\n",
    "\n",
    "model.summary()"
   ]
  },
  {
   "cell_type": "code",
   "execution_count": null,
   "id": "c1bd7cad",
   "metadata": {},
   "outputs": [],
   "source": [
    "# Define Focal Loss to make the model more focused on the minority class\n",
    "def focal_loss(gamma=2.0, alpha=0.75):\n",
    "    \"\"\"Focal loss for imbalanced classes\"\"\"\n",
    "    def loss_fn(y_true, y_pred):\n",
    "        epsilon = K.epsilon()\n",
    "        y_pred = K.clip(y_pred, epsilon, 1.0 - epsilon)\n",
    "        # Cross entropy\n",
    "        ce = -y_true * K.log(y_pred)\n",
    "        # Focal weight\n",
    "        p_t = K.sum(y_true * y_pred, axis=-1)\n",
    "        alpha_t = alpha\n",
    "        focal_weight = alpha_t * K.pow(1 - p_t, gamma)\n",
    "        # Apply focal weight\n",
    "        focal_loss = focal_weight * K.sum(ce, axis=-1)\n",
    "        \n",
    "        return K.mean(focal_loss)\n",
    "    \n",
    "    return loss_fn\n",
    "\n",
    "# Training\n",
    "model.compile(\n",
    "    loss=focal_loss(gamma=2.0, alpha=0.75),\n",
    "    optimizer=AdamW(learning_rate=0.0001, weight_decay=1e-5),\n",
    "    metrics=['accuracy']\n",
    ")\n",
    "\n",
    "early_stopping = EarlyStopping(monitor='val_loss', patience=5, verbose=1)\n",
    "\n",
    "model.fit(\n",
    "    X_train_seq,\n",
    "    y_train_cat,\n",
    "    epochs=10,\n",
    "    batch_size=64,\n",
    "    validation_data=(X_test_seq, y_test_cat),\n",
    "    callbacks=[early_stopping],\n",
    ")"
   ]
  },
  {
   "cell_type": "markdown",
   "id": "559763d9",
   "metadata": {},
   "source": [
    "# Evaluation"
   ]
  },
  {
   "cell_type": "code",
   "execution_count": null,
   "id": "60bd9373",
   "metadata": {},
   "outputs": [],
   "source": []
  },
  {
   "cell_type": "code",
   "execution_count": null,
   "id": "227c1f48",
   "metadata": {},
   "outputs": [],
   "source": []
  }
 ],
 "metadata": {
  "kernelspec": {
   "display_name": ".venv",
   "language": "python",
   "name": "python3"
  },
  "language_info": {
   "codemirror_mode": {
    "name": "ipython",
    "version": 3
   },
   "file_extension": ".py",
   "mimetype": "text/x-python",
   "name": "python",
   "nbconvert_exporter": "python",
   "pygments_lexer": "ipython3",
   "version": "3.11.11"
  }
 },
 "nbformat": 4,
 "nbformat_minor": 5
}
